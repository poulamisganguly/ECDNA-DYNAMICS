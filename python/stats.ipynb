{
 "cells": [
  {
   "cell_type": "code",
   "execution_count": 1,
   "id": "20f698bf-781a-4724-ab4e-4cdfc6e8e592",
   "metadata": {},
   "outputs": [],
   "source": [
    "import numpy as np\n",
    "import matplotlib.pyplot as plt\n",
    "# import scipy.io, scipy.ndimage\n",
    "# import seaborn as sns\n",
    "# import pandas as pd\n",
    "import os\n",
    "import gc\n",
    "from tqdm import tqdm"
   ]
  },
  {
   "cell_type": "code",
   "execution_count": 58,
   "id": "994301be-8530-4211-ab8d-2f5a0d37fed4",
   "metadata": {},
   "outputs": [],
   "source": [
    "def plot_cell_fractions(input_dir, output_dir=None, runs=100, only_means=True):\n",
    "    \"\"\"\n",
    "    Function that plots fractions of cells with each ecDNA type\n",
    "    \n",
    "    Arguments:\n",
    "    input_dir (str)  : path to directory containing output of C++ simulations\n",
    "    output_dir (str) : path to directory where output plots will be saved\n",
    "    runs (int)       : number of simulation runs (default 20)\n",
    "    only_means (bool): plot only mean trajectory (default True)\n",
    "    \n",
    "    Returns:\n",
    "    The function returns None if run successfully. Saves plots to output_dir\n",
    "    \"\"\"\n",
    "    # only select files from input_dir that contain cellFractions in the filename\n",
    "    files = [f for f in os.listdir(input_dir) if (os.path.isfile(os.path.join(input_dir, f)) and \\\n",
    "                                               f.split('_')[0]=='cellFractions')]\n",
    "    # sort files according to reverse date (earliest first)\n",
    "    files.sort(key=lambda f: os.path.getmtime(os.path.join(input_dir,f)))\n",
    "    # create output_dir if it does not exist\n",
    "    # if not os.path.exists(output_dir):\n",
    "    #     os.makedirs(output_dir)\n",
    "        \n",
    "    for f in tqdm(files):\n",
    "        # plot data\n",
    "        data_fracs = np.loadtxt(os.path.join(input_dir, f),\n",
    "                                dtype=float)\n",
    "        data_fracs = np.reshape(data_fracs, [runs,-1,5])\n",
    "        print(data_fracs.shape)\n",
    "        fig1, ax1 = plt.subplots()\n",
    "        fig2, ax2 = plt.subplots()\n",
    "        if not only_means:\n",
    "            for d in data_fracs:\n",
    "                ax1.plot(d[:,1], d[:,2], '--', c='tab:blue', linewidth=0.2)\n",
    "                ax1.plot(d[:,1], d[:,3], '--', c='tab:orange', linewidth=0.2)\n",
    "                ax1.plot(d[:,1], d[:,4], '--', c='tab:green', linewidth=0.2)\n",
    "                ax2.plot(d[:,1], d[:,3]/d[:,2], c='r', linewidth=0.2)\n",
    "                ax2.plot(d[:,1], d[:,4]/d[:,2], c='k', linewidth=0.2)\n",
    "        means = np.mean(data_fracs[:,:,2:], axis=0) # first 2 cols are run number and population size, and must not be averaged\n",
    "        print(means.shape)\n",
    "        ax1.plot(data_fracs[0][:,1], means[:,0], '.', c='tab:blue', linewidth=2, label='a')\n",
    "        ax1.plot(data_fracs[0][:,1], means[:,1], '.', c='tab:orange', linewidth=2, label='b')\n",
    "        ax1.plot(data_fracs[0][:,1], means[:,2], '.', c='tab:green', linewidth=2, label='neutral')\n",
    "        ax1.legend(loc=1)\n",
    "        ax1.set_xscale('log')\n",
    "        fig1.show()\n",
    "\n",
    "        ax2.plot(data_fracs[0][:,1], means[:,1]/means[:,0], '-', c='r', linewidth=2, label='$N_b$/$N_a$')\n",
    "        ax2.plot(data_fracs[0][:,1], means[:,2]/means[:,0], '-', c='k', linewidth=2, label='$N_n$/$N_a$')\n",
    "        ax2.legend(loc=1)\n",
    "        ax2.set_xscale('log')\n",
    "        fig2.show()\n",
    "        \n",
    "        # fig1.savefig(os.path.join(\n",
    "        #     output_dir, f.split('.')[0])+'.png')\n",
    "        # fig2.savefig(os.path.join(\n",
    "        #     output_dir, f.split('.')[0])+'_ratios.png')\n",
    "        plt.close()\n",
    "\n",
    "        # explicitly clear memory\n",
    "        del data_fracs\n",
    "        gc.collect()\n",
    "    \n",
    "    return means"
   ]
  },
  {
   "cell_type": "code",
   "execution_count": 59,
   "id": "f7cce901-fb24-4ead-b918-4c57b86c84b0",
   "metadata": {},
   "outputs": [
    {
     "name": "stderr",
     "output_type": "stream",
     "text": [
      "  0%|          | 0/4 [00:00<?, ?it/s]"
     ]
    },
    {
     "name": "stdout",
     "output_type": "stream",
     "text": [
      "(20, 100000, 5)\n",
      "(100000, 3)\n"
     ]
    },
    {
     "name": "stderr",
     "output_type": "stream",
     "text": [
      " 50%|█████     | 2/4 [00:01<00:01,  1.06it/s]"
     ]
    },
    {
     "name": "stdout",
     "output_type": "stream",
     "text": [
      "(20, 100000, 5)\n",
      "(100000, 3)\n"
     ]
    },
    {
     "name": "stderr",
     "output_type": "stream",
     "text": [
      " 75%|███████▌  | 3/4 [00:02<00:00,  1.03it/s]"
     ]
    },
    {
     "name": "stdout",
     "output_type": "stream",
     "text": [
      "(20, 100000, 5)\n",
      "(100000, 3)\n",
      "(20, 100000, 5)\n",
      "(100000, 3)\n"
     ]
    },
    {
     "name": "stderr",
     "output_type": "stream",
     "text": [
      "100%|██████████| 4/4 [00:04<00:00,  1.02s/it]\n"
     ]
    },
    {
     "data": {
      "image/png": "[encoded data removed]",
      "text/plain": [
       "<Figure size 640x480 with 1 Axes>"
      ]
     },
     "metadata": {},
     "output_type": "display_data"
    },
    {
     "data": {
      "image/png": "[encoded data removed]",
      "text/plain": [
       "<Figure size 640x480 with 1 Axes>"
      ]
     },
     "metadata": {},
     "output_type": "display_data"
    },
    {
     "data": {
      "image/png": "[encoded data removed]",
      "text/plain": [
       "<Figure size 640x480 with 1 Axes>"
      ]
     },
     "metadata": {},
     "output_type": "display_data"
    },
    {
     "data": {
      "image/png": "[encoded data removed]",
      "text/plain": [
       "<Figure size 640x480 with 1 Axes>"
      ]
     },
     "metadata": {},
     "output_type": "display_data"
    }
   ],
   "source": [
    "means_exps = plot_cell_fractions('../exps/', runs=20, only_means=True)"
   ]
  },
  {
   "cell_type": "code",
   "execution_count": 60,
   "id": "53fc5cec-f7c3-419c-8b25-1c6b6fa59cee",
   "metadata": {},
   "outputs": [
    {
     "name": "stderr",
     "output_type": "stream",
     "text": [
      "100%|██████████| 1/1 [00:00<00:00,  3.72it/s]"
     ]
    },
    {
     "name": "stdout",
     "output_type": "stream",
     "text": [
      "(1000, 100, 5)\n",
      "(100, 3)\n"
     ]
    },
    {
     "name": "stderr",
     "output_type": "stream",
     "text": [
      "\n"
     ]
    },
    {
     "data": {
      "image/png": "[encoded data removed]",
      "text/plain": [
       "<Figure size 640x480 with 1 Axes>"
      ]
     },
     "metadata": {},
     "output_type": "display_data"
    }
   ],
   "source": [
    "means_many_runs = plot_cell_fractions('../exps/many_runs/', runs=1000, only_means=True)"
   ]
  },
  {
   "cell_type": "code",
   "execution_count": 61,
   "id": "90664664-c188-4de4-8f8d-3d47afb9e92e",
   "metadata": {},
   "outputs": [
    {
     "data": {
      "text/plain": [
       "((100000, 3), (100, 3))"
      ]
     },
     "execution_count": 61,
     "metadata": {},
     "output_type": "execute_result"
    }
   ],
   "source": [
    "means_exps.shape, means_many_runs.shape"
   ]
  },
  {
   "cell_type": "code",
   "execution_count": 62,
   "id": "bc6360ac-cbe0-42f0-a186-d211fbd0a48c",
   "metadata": {},
   "outputs": [
    {
     "data": {
      "text/plain": [
       "array([1.        , 0.825     , 0.7166667 , ..., 0.43681573, 0.43681591,\n",
       "       0.436812  ])"
      ]
     },
     "execution_count": 62,
     "metadata": {},
     "output_type": "execute_result"
    }
   ],
   "source": [
    "means_exps[:,1]"
   ]
  },
  {
   "cell_type": "code",
   "execution_count": 55,
   "id": "2eac7e6c-3034-4c61-96df-73fc5a41737a",
   "metadata": {},
   "outputs": [
    {
     "name": "stdout",
     "output_type": "stream",
     "text": [
      "[[0 1 1 0 1]\n",
      " [1 1 1 1 1]]\n",
      "[[1 0 0 1 0]\n",
      " [0 0 0 0 1]]\n",
      "[[0 1 1 0 0]\n",
      " [1 1 1 1 0]]\n",
      "[[0.33333333 0.66666667 0.66666667 0.33333333 0.33333333]\n",
      " [0.66666667 0.66666667 0.66666667 0.66666667 0.66666667]]\n",
      "[[0.66666667 0.66666667 0.66666667 0.66666667 0.66666667]]\n",
      "[[0.66666667 0.33333333 0.33333333]\n",
      " [0.66666667 0.66666667 0.66666667]]\n"
     ]
    }
   ],
   "source": [
    "np.random.seed(0)\n",
    "test_arrays = np.random.randint(2,size=(3,2,5))\n",
    "for array in test_arrays: print(array)\n",
    "print(np.mean(test_arrays[:,:,:], axis=0))\n",
    "print(np.mean(test_arrays[:,1:,:], axis=0))\n",
    "print(np.mean(test_arrays[:,:,2:], axis=0))"
   ]
  },
  {
   "cell_type": "markdown",
   "id": "2151d27e-c4b4-429b-9c8c-0f15f4ae5756",
   "metadata": {
    "tags": []
   },
   "source": [
    "### Non-neutral cell population dynamics ($s=3$)"
   ]
  },
  {
   "cell_type": "code",
   "execution_count": null,
   "id": "51c807ac-ae03-47ea-be06-b1040fe547f0",
   "metadata": {},
   "outputs": [],
   "source": [
    "# # # load data from files\n",
    "# DIR = '../exps/'\n",
    "\n",
    "# # data_a = np.loadtxt(DIR+'Summary_3_1_0_a.txt', dtype=int)\n",
    "# # data_b = np.loadtxt(DIR+'Summary_3_1_0_b.txt', dtype=int)\n",
    "\n",
    "# # # create pandas dataframe... this part is a hack that might get removed\n",
    "# # # if I already save output from the C++ code in the correct format\n",
    "\n",
    "# # ## create vector that contains the simulation run index\n",
    "# # simulation_run = np.repeat(np.arange(0,data_a.shape[0],1),\n",
    "# #           data_a.shape[1])\n",
    "\n",
    "# # ## create vector containing cell number\n",
    "# # cell_index = np.tile(np.arange(0, data_a.shape[1],1), data_a.shape[0])\n",
    "\n",
    "# # ## create vector containing type name\n",
    "# # types = np.repeat(np.array(['a', 'b']), data_a.flatten().size)\n",
    "\n",
    "# # ## create dataframe\n",
    "# # data = pd.DataFrame({\"cell index\": np.concatenate((cell_index, cell_index)),\n",
    "# #                     \"simulation run\": np.concatenate((simulation_run, simulation_run)),\n",
    "# #                      \"copy number\": np.concatenate((data_a.flatten(), data_b.flatten())),\n",
    "# #                      \"ecDNA type\": types})\n",
    "# # data"
   ]
  },
  {
   "cell_type": "code",
   "execution_count": null,
   "id": "c609174c-ae82-48a6-b8d6-968878b67206",
   "metadata": {},
   "outputs": [],
   "source": [
    "# # plot histograms\n",
    "# max_no = int(max(data_a.max(), data_b.max()))\n",
    "# plt.figure(figsize=(15,5))\n",
    "# plt.subplot(121)\n",
    "# sns.histplot(data=data, bins=max_no, x=\"copy number\", hue=\"ecDNA type\", kde=True)\n",
    "# plt.title('ecDNA copy numbers by type')\n",
    "\n",
    "# # groupby simulation run and cell index and plot the histogram of total\n",
    "# # ecDNA copy number\n",
    "# group = data.groupby(['cell index','simulation run'])['copy number']\n",
    "# plt.subplot(122)\n",
    "# sns.histplot(group.sum(), bins=group.sum().max(), kde=True, color='g')\n",
    "# plt.title('Total ecDNA copy number')"
   ]
  },
  {
   "cell_type": "code",
   "execution_count": null,
   "id": "670da524-f2ea-460a-a5f3-3a86041c71b8",
   "metadata": {},
   "outputs": [],
   "source": [
    "# # sanity check: this checks that no cells are devoid of both type 'a' and\n",
    "# # type 'b' ecDNA, i.e., that each cell contains either type of ecDNA\n",
    "\n",
    "# ## cells with no copies of type 'a' ecDNA\n",
    "# a_0 = data.index[(data['copy number'] == 0) & (data['ecDNA type'] == 'a')].tolist()\n",
    "# ## cells with no copies of type 'b' ecDNA\n",
    "# b_0 = data.index[(data['copy number'] == 0) & (data['ecDNA type'] == 'b')].tolist()\n",
    "\n",
    "# ## check intersection between two sets is an empty set\n",
    "# if not list(set(a_0) & set(b_0)): print(\"Intersection is empty!\")"
   ]
  },
  {
   "cell_type": "code",
   "execution_count": null,
   "id": "61583bf4-84a5-4a69-b226-1c8e944e877e",
   "metadata": {},
   "outputs": [],
   "source": [
    "# data_fracs = np.loadtxt(DIR+'cellFractions_3_1_0.txt', dtype=float)\n",
    "# data_fracs = np.reshape(data_fracs, [20,-1,5])"
   ]
  },
  {
   "cell_type": "code",
   "execution_count": null,
   "id": "c90d7375-3c61-494f-a7de-f804848ac171",
   "metadata": {},
   "outputs": [],
   "source": [
    "# # plot cell fractions as a function of total cell population\n",
    "# plt.figure()\n",
    "# for d in data_fracs:\n",
    "#     plt.plot(d[:,1], d[:,2], '--', c='tab:blue', linewidth=0.2)\n",
    "#     plt.plot(d[:,1], d[:,3], '--', c='tab:orange', linewidth=0.2)\n",
    "#     plt.plot(d[:,1], d[:,4], '--', c='tab:green', linewidth=0.2)\n",
    "# means = np.mean(data_fracs, axis=0)\n",
    "# plt.plot(means[:,1], means[:,2], '-', c='tab:blue', linewidth=2, label='a')\n",
    "# plt.plot(means[:,1], means[:,3], '-', c='tab:orange', linewidth=2, label='b')\n",
    "# plt.plot(means[:,1], means[:,4], '-', c='tab:green', linewidth=2, label='neutral')\n",
    "# plt.legend()\n",
    "# plt.xscale('log')\n",
    "# # plt.yscale('log')"
   ]
  },
  {
   "cell_type": "markdown",
   "id": "3cf1e88e-8da7-4c4c-8e08-55e7b6a109e9",
   "metadata": {
    "tags": []
   },
   "source": [
    "### Neutral cell population dynamics ($s=1$)"
   ]
  },
  {
   "cell_type": "code",
   "execution_count": null,
   "id": "b2cd5e8a-b91d-4b2b-81a2-4917ef8e4f24",
   "metadata": {},
   "outputs": [],
   "source": [
    "# # load data from files\n",
    "# DIR = '../exps/'\n",
    "\n",
    "# data_a = np.loadtxt(DIR+'Summary_1_1_0_a.txt', dtype=int)\n",
    "# data_b = np.loadtxt(DIR+'Summary_1_1_0_b.txt', dtype=int)\n",
    "\n",
    "# # create pandas dataframe... this part is a hack that might get removed\n",
    "# # if I already save output from the C++ code in the correct format\n",
    "\n",
    "# ## create vector that contains the simulation run index\n",
    "# simulation_run = np.repeat(np.arange(0,data_a.shape[0],1),\n",
    "#           data_a.shape[1])\n",
    "\n",
    "# ## create vector containing cell number\n",
    "# cell_index = np.tile(np.arange(0, data_a.shape[1],1), data_a.shape[0])\n",
    "\n",
    "# ## create vector containing type name\n",
    "# types = np.repeat(np.array(['a', 'b']), data_a.flatten().size)\n",
    "\n",
    "# ## create dataframe\n",
    "# data_n = pd.DataFrame({\"cell index\": np.concatenate((cell_index, cell_index)),\n",
    "#                     \"simulation run\": np.concatenate((simulation_run, simulation_run)),\n",
    "#                      \"copy number\": np.concatenate((data_a.flatten(), data_b.flatten())),\n",
    "#                      \"ecDNA type\": types})\n",
    "# data_n"
   ]
  },
  {
   "cell_type": "code",
   "execution_count": null,
   "id": "12a0844e-3de0-4f70-a937-557084576cb9",
   "metadata": {},
   "outputs": [],
   "source": [
    "# # plot histograms\n",
    "# max_no = int(max(data_a.max(), data_b.max()))\n",
    "# plt.figure(figsize=(15,5))\n",
    "# plt.subplot(121)\n",
    "# sns.histplot(data=data_n, bins=max_no, x=\"copy number\", hue=\"ecDNA type\", kde=True)\n",
    "# plt.title('ecDNA copy numbers by type')\n",
    "\n",
    "# # groupby simulation run and cell index and plot the histogram of total\n",
    "# # ecDNA copy number\n",
    "# group_n = data_n.groupby(['cell index','simulation run'])['copy number']\n",
    "# plt.subplot(122)\n",
    "# sns.histplot(group_n.sum(), bins=group_n.sum().max(), kde=True, color='g')\n",
    "# plt.title('Total ecDNA copy number')"
   ]
  },
  {
   "cell_type": "code",
   "execution_count": null,
   "id": "364be709-c78b-4ee4-adc4-0eae9a3e6d88",
   "metadata": {},
   "outputs": [],
   "source": [
    "# # sanity check: this checks that no cells are devoid of both type 'a' and\n",
    "# # type 'b' ecDNA, i.e., that each cell contains either type of ecDNA\n",
    "\n",
    "# ## cells with no copies of type 'a' ecDNA\n",
    "# a_0 = data_n.index[(data_n['copy number'] == 0) & (data_n['ecDNA type'] == 'a')].tolist()\n",
    "# ## cells with no copies of type 'b' ecDNA\n",
    "# b_0 = data_n.index[(data_n['copy number'] == 0) & (data_n['ecDNA type'] == 'b')].tolist()\n",
    "\n",
    "# ## check intersection between two sets is an empty set\n",
    "# if not list(set(a_0) & set(b_0)): print(\"Intersection is empty!\")"
   ]
  },
  {
   "cell_type": "code",
   "execution_count": null,
   "id": "fc1242d7-fc5d-4b8a-aef9-e2e3a29772c4",
   "metadata": {},
   "outputs": [],
   "source": [
    "# data_fracs_n = np.loadtxt(DIR+'cellFractions_1_1_0.txt', dtype=float)\n",
    "# data_fracs_n = np.reshape(data_fracs_n, [20,-1,5])"
   ]
  },
  {
   "cell_type": "code",
   "execution_count": null,
   "id": "90c1e62d-aa15-4972-ab89-5aee8c98ffca",
   "metadata": {},
   "outputs": [],
   "source": [
    "# # plot cell fractions as a function of total cell population\n",
    "# plt.figure()\n",
    "# for d in data_fracs_n:\n",
    "#     plt.plot(d[:,1], d[:,2], '-', c='tab:blue', alpha=0.1)\n",
    "#     plt.plot(d[:,1], d[:,3], '-', c='tab:orange', alpha=0.1)\n",
    "#     plt.plot(d[:,1], d[:,4], '-', c='tab:green', alpha=0.1)\n",
    "# means_n = np.mean(data_fracs_n, axis=0)\n",
    "# plt.plot(means_n[:,1], means_n[:,2], c='tab:blue', linewidth=2, label='a')\n",
    "# plt.plot(means_n[:,1], means_n[:,3], '-', c='tab:orange', linewidth=2, label='b')\n",
    "# plt.plot(means_n[:,1], means_n[:,4], '-', c='tab:green', linewidth=2, label='neutral')\n",
    "# plt.legend()\n",
    "# plt.xscale('log')\n",
    "# # plt.yscale('log')"
   ]
  },
  {
   "cell_type": "code",
   "execution_count": null,
   "id": "890b46b1-2e3e-452b-84d9-9ebbe5cffaf1",
   "metadata": {},
   "outputs": [],
   "source": [
    "# plt.figure()\n",
    "# plt.plot(means_n[:,1], means_n[:,4], '-', c='k', linewidth=2, label='$s=1$')\n",
    "# plt.plot(means[:,1], means[:,4], '-', c='b', linewidth=2, label='$s=3$')\n",
    "# plt.xscale('log')\n",
    "# plt.legend()\n",
    "# plt.show()"
   ]
  },
  {
   "cell_type": "code",
   "execution_count": null,
   "id": "928811cf-d4d0-4940-aac2-c523ef4930ab",
   "metadata": {},
   "outputs": [],
   "source": [
    "# # plot overlapping histograms\n",
    "\n",
    "# plt.figure(figsize=(15,10))\n",
    "# plt.subplot(221)\n",
    "# plt.title('Type-a ecDNA copy numbers')\n",
    "# sns.kdeplot(data=data.loc[data['ecDNA type']=='a'], x=\"copy number\",\n",
    "#              # bins=max_no, kde=False,\n",
    "#             label='s=3')\n",
    "# sns.kdeplot(data=data_n.loc[data_n['ecDNA type']=='a'], x=\"copy number\",\n",
    "#              # bins=max_no, kde=False,\n",
    "#             label='s=1')\n",
    "# plt.legend()\n",
    "\n",
    "# plt.subplot(222)\n",
    "# plt.title('Type-b ecDNA copy numbers')\n",
    "# sns.kdeplot(data=data.loc[data['ecDNA type']=='b'], x=\"copy number\",\n",
    "#              # bins=max_no, kde=False,\n",
    "#             label='s=3')\n",
    "# sns.kdeplot(data=data_n.loc[data_n['ecDNA type']=='b'], x=\"copy number\",\n",
    "#              # bins=max_no, kde=False,\n",
    "#              label='s=1')\n",
    "# plt.legend()\n",
    "\n",
    "# plt.subplot(223)\n",
    "# plt.title('Total ecDNA copy numbers')\n",
    "# sns.kdeplot(group.sum(), label='s=3')\n",
    "# sns.kdeplot(group_n.sum(), label='s=1')\n",
    "# plt.legend()\n",
    "# plt.show()"
   ]
  },
  {
   "cell_type": "code",
   "execution_count": null,
   "id": "3f2fb64b-2d01-4d56-a2bd-6ea950631837",
   "metadata": {},
   "outputs": [],
   "source": []
  }
 ],
 "metadata": {
  "kernelspec": {
   "display_name": "Python 3 (ipykernel)",
   "language": "python",
   "name": "python3"
  },
  "language_info": {
   "codemirror_mode": {
    "name": "ipython",
    "version": 3
   },
   "file_extension": ".py",
   "mimetype": "text/x-python",
   "name": "python",
   "nbconvert_exporter": "python",
   "pygments_lexer": "ipython3",
   "version": "3.10.10"
  }
 },
 "nbformat": 4,
 "nbformat_minor": 5
}
